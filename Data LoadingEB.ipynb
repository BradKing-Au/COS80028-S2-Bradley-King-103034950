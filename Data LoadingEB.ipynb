{
 "cells": [
  {
   "cell_type": "code",
   "execution_count": 1,
   "metadata": {},
   "outputs": [],
   "source": [
    "import sys\n",
    "import numpy as np\n",
    "import os"
   ]
  },
  {
   "cell_type": "code",
   "execution_count": 2,
   "metadata": {},
   "outputs": [],
   "source": [
    "import pandas as pd"
   ]
  },
  {
   "cell_type": "code",
   "execution_count": 3,
   "metadata": {},
   "outputs": [],
   "source": [
    "import matplotlib.pyplot as plt\n"
   ]
  },
  {
   "cell_type": "markdown",
   "metadata": {},
   "source": [
    "__data collection and cleaning from individual sensors csv files for eastbound direction__\n"
   ]
  },
  {
   "cell_type": "code",
   "execution_count": 4,
   "metadata": {},
   "outputs": [],
   "source": [
    "eb010 = pd.read_csv(\"formatted_raw_data/EB14010.csv\")"
   ]
  },
  {
   "cell_type": "code",
   "execution_count": 5,
   "metadata": {},
   "outputs": [
    {
     "data": {
      "text/html": [
       "<div>\n",
       "<style scoped>\n",
       "    .dataframe tbody tr th:only-of-type {\n",
       "        vertical-align: middle;\n",
       "    }\n",
       "\n",
       "    .dataframe tbody tr th {\n",
       "        vertical-align: top;\n",
       "    }\n",
       "\n",
       "    .dataframe thead th {\n",
       "        text-align: right;\n",
       "    }\n",
       "</style>\n",
       "<table border=\"1\" class=\"dataframe\">\n",
       "  <thead>\n",
       "    <tr style=\"text-align: right;\">\n",
       "      <th></th>\n",
       "      <th>Row Labels</th>\n",
       "      <th>Date</th>\n",
       "      <th>Detector Total Volume</th>\n",
       "      <th>Detector Avg Speed</th>\n",
       "      <th>Detector Avg Occupancy</th>\n",
       "    </tr>\n",
       "  </thead>\n",
       "  <tbody>\n",
       "    <tr>\n",
       "      <th>0</th>\n",
       "      <td>0:00</td>\n",
       "      <td>1-Jul-16</td>\n",
       "      <td>0</td>\n",
       "      <td>NaN</td>\n",
       "      <td>0</td>\n",
       "    </tr>\n",
       "    <tr>\n",
       "      <th>1</th>\n",
       "      <td>0:01</td>\n",
       "      <td>1-Jul-16</td>\n",
       "      <td>0</td>\n",
       "      <td>NaN</td>\n",
       "      <td>0</td>\n",
       "    </tr>\n",
       "    <tr>\n",
       "      <th>2</th>\n",
       "      <td>0:02</td>\n",
       "      <td>1-Jul-16</td>\n",
       "      <td>0</td>\n",
       "      <td>NaN</td>\n",
       "      <td>0</td>\n",
       "    </tr>\n",
       "    <tr>\n",
       "      <th>3</th>\n",
       "      <td>0:03</td>\n",
       "      <td>1-Jul-16</td>\n",
       "      <td>0</td>\n",
       "      <td>NaN</td>\n",
       "      <td>0</td>\n",
       "    </tr>\n",
       "    <tr>\n",
       "      <th>4</th>\n",
       "      <td>0:04</td>\n",
       "      <td>1-Jul-16</td>\n",
       "      <td>0</td>\n",
       "      <td>NaN</td>\n",
       "      <td>0</td>\n",
       "    </tr>\n",
       "  </tbody>\n",
       "</table>\n",
       "</div>"
      ],
      "text/plain": [
       "  Row Labels      Date  Detector Total Volume  Detector Avg Speed  \\\n",
       "0       0:00  1-Jul-16                      0                 NaN   \n",
       "1       0:01  1-Jul-16                      0                 NaN   \n",
       "2       0:02  1-Jul-16                      0                 NaN   \n",
       "3       0:03  1-Jul-16                      0                 NaN   \n",
       "4       0:04  1-Jul-16                      0                 NaN   \n",
       "\n",
       "   Detector Avg Occupancy  \n",
       "0                       0  \n",
       "1                       0  \n",
       "2                       0  \n",
       "3                       0  \n",
       "4                       0  "
      ]
     },
     "execution_count": 5,
     "metadata": {},
     "output_type": "execute_result"
    }
   ],
   "source": [
    "eb010.head()"
   ]
  },
  {
   "cell_type": "code",
   "execution_count": 6,
   "metadata": {},
   "outputs": [],
   "source": [
    "eb032 = pd.read_csv(\"formatted_raw_data/EB14032.csv\")"
   ]
  },
  {
   "cell_type": "code",
   "execution_count": 7,
   "metadata": {},
   "outputs": [
    {
     "data": {
      "text/html": [
       "<div>\n",
       "<style scoped>\n",
       "    .dataframe tbody tr th:only-of-type {\n",
       "        vertical-align: middle;\n",
       "    }\n",
       "\n",
       "    .dataframe tbody tr th {\n",
       "        vertical-align: top;\n",
       "    }\n",
       "\n",
       "    .dataframe thead th {\n",
       "        text-align: right;\n",
       "    }\n",
       "</style>\n",
       "<table border=\"1\" class=\"dataframe\">\n",
       "  <thead>\n",
       "    <tr style=\"text-align: right;\">\n",
       "      <th></th>\n",
       "      <th>Row Labels</th>\n",
       "      <th>Date</th>\n",
       "      <th>Detector Total Volume</th>\n",
       "      <th>Detector Avg Speed</th>\n",
       "      <th>Detector Avg Occupancy</th>\n",
       "    </tr>\n",
       "  </thead>\n",
       "  <tbody>\n",
       "    <tr>\n",
       "      <th>0</th>\n",
       "      <td>0:00</td>\n",
       "      <td>1-Jul-16</td>\n",
       "      <td>41</td>\n",
       "      <td>78.0</td>\n",
       "      <td>3</td>\n",
       "    </tr>\n",
       "    <tr>\n",
       "      <th>1</th>\n",
       "      <td>0:01</td>\n",
       "      <td>1-Jul-16</td>\n",
       "      <td>26</td>\n",
       "      <td>80.0</td>\n",
       "      <td>2</td>\n",
       "    </tr>\n",
       "    <tr>\n",
       "      <th>2</th>\n",
       "      <td>0:02</td>\n",
       "      <td>1-Jul-16</td>\n",
       "      <td>26</td>\n",
       "      <td>81.0</td>\n",
       "      <td>2</td>\n",
       "    </tr>\n",
       "    <tr>\n",
       "      <th>3</th>\n",
       "      <td>0:03</td>\n",
       "      <td>1-Jul-16</td>\n",
       "      <td>29</td>\n",
       "      <td>78.0</td>\n",
       "      <td>2</td>\n",
       "    </tr>\n",
       "    <tr>\n",
       "      <th>4</th>\n",
       "      <td>0:04</td>\n",
       "      <td>1-Jul-16</td>\n",
       "      <td>34</td>\n",
       "      <td>77.0</td>\n",
       "      <td>3</td>\n",
       "    </tr>\n",
       "  </tbody>\n",
       "</table>\n",
       "</div>"
      ],
      "text/plain": [
       "  Row Labels      Date  Detector Total Volume  Detector Avg Speed  \\\n",
       "0       0:00  1-Jul-16                     41                78.0   \n",
       "1       0:01  1-Jul-16                     26                80.0   \n",
       "2       0:02  1-Jul-16                     26                81.0   \n",
       "3       0:03  1-Jul-16                     29                78.0   \n",
       "4       0:04  1-Jul-16                     34                77.0   \n",
       "\n",
       "   Detector Avg Occupancy  \n",
       "0                       3  \n",
       "1                       2  \n",
       "2                       2  \n",
       "3                       2  \n",
       "4                       3  "
      ]
     },
     "execution_count": 7,
     "metadata": {},
     "output_type": "execute_result"
    }
   ],
   "source": [
    "eb032.head()"
   ]
  },
  {
   "cell_type": "code",
   "execution_count": 8,
   "metadata": {},
   "outputs": [
    {
     "data": {
      "text/html": [
       "<div>\n",
       "<style scoped>\n",
       "    .dataframe tbody tr th:only-of-type {\n",
       "        vertical-align: middle;\n",
       "    }\n",
       "\n",
       "    .dataframe tbody tr th {\n",
       "        vertical-align: top;\n",
       "    }\n",
       "\n",
       "    .dataframe thead th {\n",
       "        text-align: right;\n",
       "    }\n",
       "</style>\n",
       "<table border=\"1\" class=\"dataframe\">\n",
       "  <thead>\n",
       "    <tr style=\"text-align: right;\">\n",
       "      <th></th>\n",
       "      <th>Row Labels</th>\n",
       "      <th>Date</th>\n",
       "      <th>Detector Total Volume</th>\n",
       "      <th>Detector Avg Speed</th>\n",
       "      <th>Detector Avg Occupancy</th>\n",
       "    </tr>\n",
       "  </thead>\n",
       "  <tbody>\n",
       "    <tr>\n",
       "      <th>0</th>\n",
       "      <td>00:00</td>\n",
       "      <td>1-Jul-16</td>\n",
       "      <td>19</td>\n",
       "      <td>90.30</td>\n",
       "      <td>1.70</td>\n",
       "    </tr>\n",
       "    <tr>\n",
       "      <th>1</th>\n",
       "      <td>00:01</td>\n",
       "      <td>1-Jul-16</td>\n",
       "      <td>40</td>\n",
       "      <td>86.78</td>\n",
       "      <td>4.96</td>\n",
       "    </tr>\n",
       "    <tr>\n",
       "      <th>2</th>\n",
       "      <td>00:02</td>\n",
       "      <td>1-Jul-16</td>\n",
       "      <td>38</td>\n",
       "      <td>98.28</td>\n",
       "      <td>2.74</td>\n",
       "    </tr>\n",
       "    <tr>\n",
       "      <th>3</th>\n",
       "      <td>00:03</td>\n",
       "      <td>1-Jul-16</td>\n",
       "      <td>44</td>\n",
       "      <td>99.34</td>\n",
       "      <td>3.48</td>\n",
       "    </tr>\n",
       "    <tr>\n",
       "      <th>4</th>\n",
       "      <td>00:04</td>\n",
       "      <td>1-Jul-16</td>\n",
       "      <td>35</td>\n",
       "      <td>97.28</td>\n",
       "      <td>2.54</td>\n",
       "    </tr>\n",
       "  </tbody>\n",
       "</table>\n",
       "</div>"
      ],
      "text/plain": [
       "  Row Labels      Date  Detector Total Volume  Detector Avg Speed  \\\n",
       "0      00:00  1-Jul-16                     19               90.30   \n",
       "1      00:01  1-Jul-16                     40               86.78   \n",
       "2      00:02  1-Jul-16                     38               98.28   \n",
       "3      00:03  1-Jul-16                     44               99.34   \n",
       "4      00:04  1-Jul-16                     35               97.28   \n",
       "\n",
       "   Detector Avg Occupancy  \n",
       "0                    1.70  \n",
       "1                    4.96  \n",
       "2                    2.74  \n",
       "3                    3.48  \n",
       "4                    2.54  "
      ]
     },
     "execution_count": 8,
     "metadata": {},
     "output_type": "execute_result"
    }
   ],
   "source": [
    "eb045 = pd.read_csv(\"formatted_raw_data/EB14045.csv\")\n",
    "eb045.head()"
   ]
  },
  {
   "cell_type": "code",
   "execution_count": 9,
   "metadata": {},
   "outputs": [
    {
     "data": {
      "text/html": [
       "<div>\n",
       "<style scoped>\n",
       "    .dataframe tbody tr th:only-of-type {\n",
       "        vertical-align: middle;\n",
       "    }\n",
       "\n",
       "    .dataframe tbody tr th {\n",
       "        vertical-align: top;\n",
       "    }\n",
       "\n",
       "    .dataframe thead th {\n",
       "        text-align: right;\n",
       "    }\n",
       "</style>\n",
       "<table border=\"1\" class=\"dataframe\">\n",
       "  <thead>\n",
       "    <tr style=\"text-align: right;\">\n",
       "      <th></th>\n",
       "      <th>Row Labels</th>\n",
       "      <th>Date</th>\n",
       "      <th>Detector Total Volume</th>\n",
       "      <th>Detector Avg Speed</th>\n",
       "      <th>Detector Avg Occupancy</th>\n",
       "    </tr>\n",
       "  </thead>\n",
       "  <tbody>\n",
       "    <tr>\n",
       "      <th>0</th>\n",
       "      <td>00:00</td>\n",
       "      <td>1-Jul-16</td>\n",
       "      <td>14</td>\n",
       "      <td>100.15</td>\n",
       "      <td>1.97</td>\n",
       "    </tr>\n",
       "    <tr>\n",
       "      <th>1</th>\n",
       "      <td>00:01</td>\n",
       "      <td>1-Jul-16</td>\n",
       "      <td>5</td>\n",
       "      <td>95.75</td>\n",
       "      <td>1.17</td>\n",
       "    </tr>\n",
       "    <tr>\n",
       "      <th>2</th>\n",
       "      <td>00:02</td>\n",
       "      <td>1-Jul-16</td>\n",
       "      <td>16</td>\n",
       "      <td>98.15</td>\n",
       "      <td>3.17</td>\n",
       "    </tr>\n",
       "    <tr>\n",
       "      <th>3</th>\n",
       "      <td>00:03</td>\n",
       "      <td>1-Jul-16</td>\n",
       "      <td>10</td>\n",
       "      <td>96.44</td>\n",
       "      <td>1.60</td>\n",
       "    </tr>\n",
       "    <tr>\n",
       "      <th>4</th>\n",
       "      <td>00:04</td>\n",
       "      <td>1-Jul-16</td>\n",
       "      <td>22</td>\n",
       "      <td>98.79</td>\n",
       "      <td>3.00</td>\n",
       "    </tr>\n",
       "  </tbody>\n",
       "</table>\n",
       "</div>"
      ],
      "text/plain": [
       "  Row Labels      Date  Detector Total Volume  Detector Avg Speed  \\\n",
       "0      00:00  1-Jul-16                     14              100.15   \n",
       "1      00:01  1-Jul-16                      5               95.75   \n",
       "2      00:02  1-Jul-16                     16               98.15   \n",
       "3      00:03  1-Jul-16                     10               96.44   \n",
       "4      00:04  1-Jul-16                     22               98.79   \n",
       "\n",
       "   Detector Avg Occupancy  \n",
       "0                    1.97  \n",
       "1                    1.17  \n",
       "2                    3.17  \n",
       "3                    1.60  \n",
       "4                    3.00  "
      ]
     },
     "execution_count": 9,
     "metadata": {},
     "output_type": "execute_result"
    }
   ],
   "source": [
    "eb061 = pd.read_csv(\"formatted_raw_data/EB14061.csv\")\n",
    "eb061.head()"
   ]
  },
  {
   "cell_type": "code",
   "execution_count": 10,
   "metadata": {},
   "outputs": [
    {
     "name": "stdout",
     "output_type": "stream",
     "text": [
      "<class 'pandas.core.frame.DataFrame'>\n",
      "RangeIndex: 125280 entries, 0 to 125279\n",
      "Data columns (total 5 columns):\n",
      " #   Column                  Non-Null Count   Dtype  \n",
      "---  ------                  --------------   -----  \n",
      " 0   Row Labels              125280 non-null  object \n",
      " 1   Date                    125280 non-null  object \n",
      " 2   Detector Total Volume   125280 non-null  int64  \n",
      " 3   Detector Avg Speed      123840 non-null  float64\n",
      " 4   Detector Avg Occupancy  125280 non-null  int64  \n",
      "dtypes: float64(1), int64(2), object(2)\n",
      "memory usage: 4.8+ MB\n",
      "None\n",
      "<class 'pandas.core.frame.DataFrame'>\n",
      "RangeIndex: 125280 entries, 0 to 125279\n",
      "Data columns (total 5 columns):\n",
      " #   Column                  Non-Null Count   Dtype  \n",
      "---  ------                  --------------   -----  \n",
      " 0   Row Labels              125280 non-null  object \n",
      " 1   Date                    125280 non-null  object \n",
      " 2   Detector Total Volume   125280 non-null  int64  \n",
      " 3   Detector Avg Speed      125256 non-null  float64\n",
      " 4   Detector Avg Occupancy  125280 non-null  int64  \n",
      "dtypes: float64(1), int64(2), object(2)\n",
      "memory usage: 4.8+ MB\n",
      "None\n",
      "<class 'pandas.core.frame.DataFrame'>\n",
      "RangeIndex: 125280 entries, 0 to 125279\n",
      "Data columns (total 5 columns):\n",
      " #   Column                  Non-Null Count   Dtype  \n",
      "---  ------                  --------------   -----  \n",
      " 0   Row Labels              125280 non-null  object \n",
      " 1   Date                    125280 non-null  object \n",
      " 2   Detector Total Volume   125280 non-null  int64  \n",
      " 3   Detector Avg Speed      125278 non-null  float64\n",
      " 4   Detector Avg Occupancy  125280 non-null  float64\n",
      "dtypes: float64(2), int64(1), object(2)\n",
      "memory usage: 4.8+ MB\n",
      "None\n",
      "<class 'pandas.core.frame.DataFrame'>\n",
      "RangeIndex: 125280 entries, 0 to 125279\n",
      "Data columns (total 5 columns):\n",
      " #   Column                  Non-Null Count   Dtype  \n",
      "---  ------                  --------------   -----  \n",
      " 0   Row Labels              125280 non-null  object \n",
      " 1   Date                    125280 non-null  object \n",
      " 2   Detector Total Volume   125280 non-null  int64  \n",
      " 3   Detector Avg Speed      125271 non-null  float64\n",
      " 4   Detector Avg Occupancy  125280 non-null  float64\n",
      "dtypes: float64(2), int64(1), object(2)\n",
      "memory usage: 4.8+ MB\n",
      "None\n"
     ]
    }
   ],
   "source": [
    "print(eb010.info())\n",
    "print(eb032.info())\n",
    "print(eb045.info())\n",
    "print(eb061.info())\n"
   ]
  },
  {
   "cell_type": "code",
   "execution_count": 11,
   "metadata": {},
   "outputs": [],
   "source": [
    "#average occupancy is not used in this study\n",
    "eb010.drop(axis =1, labels = \"Detector Avg Occupancy\",inplace = True)\n",
    "eb032.drop(axis =1, labels = \"Detector Avg Occupancy\",inplace = True)\n",
    "eb045.drop(axis =1, labels = \"Detector Avg Occupancy\",inplace = True)\n",
    "eb061.drop(axis =1, labels = \"Detector Avg Occupancy\",inplace = True)"
   ]
  },
  {
   "cell_type": "code",
   "execution_count": 12,
   "metadata": {},
   "outputs": [
    {
     "name": "stdout",
     "output_type": "stream",
     "text": [
      "  Row Labels      Date  Detector Total Volume  Detector Avg Speed\n",
      "0       0:00  1-Jul-16                      0                 NaN\n",
      "1       0:01  1-Jul-16                      0                 NaN\n",
      "2       0:02  1-Jul-16                      0                 NaN\n",
      "3       0:03  1-Jul-16                      0                 NaN\n",
      "4       0:04  1-Jul-16                      0                 NaN\n",
      "  Row Labels      Date  Detector Total Volume  Detector Avg Speed\n",
      "0       0:00  1-Jul-16                     41                78.0\n",
      "1       0:01  1-Jul-16                     26                80.0\n",
      "2       0:02  1-Jul-16                     26                81.0\n",
      "3       0:03  1-Jul-16                     29                78.0\n",
      "4       0:04  1-Jul-16                     34                77.0\n",
      "  Row Labels      Date  Detector Total Volume  Detector Avg Speed\n",
      "0      00:00  1-Jul-16                     19               90.30\n",
      "1      00:01  1-Jul-16                     40               86.78\n",
      "2      00:02  1-Jul-16                     38               98.28\n",
      "3      00:03  1-Jul-16                     44               99.34\n",
      "4      00:04  1-Jul-16                     35               97.28\n",
      "  Row Labels      Date  Detector Total Volume  Detector Avg Speed\n",
      "0      00:00  1-Jul-16                     14              100.15\n",
      "1      00:01  1-Jul-16                      5               95.75\n",
      "2      00:02  1-Jul-16                     16               98.15\n",
      "3      00:03  1-Jul-16                     10               96.44\n",
      "4      00:04  1-Jul-16                     22               98.79\n"
     ]
    }
   ],
   "source": [
    "print(eb010.head())\n",
    "print(eb032.head())\n",
    "print(eb045.head())\n",
    "print(eb061.head())"
   ]
  },
  {
   "cell_type": "code",
   "execution_count": 13,
   "metadata": {},
   "outputs": [],
   "source": [
    "#renaming columns to a convention that makes more sense for a multi-sensor document\n",
    "\n",
    "eb010.columns = ['Time','Date','010Volume','010Speed']\n",
    "eb032.columns = ['Time','Date','032Volume','032Speed']\n",
    "eb045.columns = ['Time','Date','045Volume','045Speed']\n",
    "eb061.columns = ['Time','Date','061Volume','061Speed']\n"
   ]
  },
  {
   "cell_type": "code",
   "execution_count": 15,
   "metadata": {},
   "outputs": [
    {
     "name": "stdout",
     "output_type": "stream",
     "text": [
      "<class 'pandas.core.frame.DataFrame'>\n",
      "Int64Index: 125280 entries, 0 to 125279\n",
      "Data columns (total 6 columns):\n",
      " #   Column     Non-Null Count   Dtype  \n",
      "---  ------     --------------   -----  \n",
      " 0   Time       125280 non-null  object \n",
      " 1   Date       125280 non-null  object \n",
      " 2   010Volume  125280 non-null  int64  \n",
      " 3   010Speed   123840 non-null  float64\n",
      " 4   032Volume  125280 non-null  int64  \n",
      " 5   032Speed   125256 non-null  float64\n",
      "dtypes: float64(2), int64(2), object(2)\n",
      "memory usage: 6.7+ MB\n",
      "None\n",
      "<class 'pandas.core.frame.DataFrame'>\n",
      "Int64Index: 125280 entries, 0 to 125279\n",
      "Data columns (total 6 columns):\n",
      " #   Column     Non-Null Count   Dtype  \n",
      "---  ------     --------------   -----  \n",
      " 0   Time       125280 non-null  object \n",
      " 1   Date       125280 non-null  object \n",
      " 2   045Volume  125280 non-null  int64  \n",
      " 3   045Speed   125278 non-null  float64\n",
      " 4   061Volume  125280 non-null  int64  \n",
      " 5   061Speed   125271 non-null  float64\n",
      "dtypes: float64(2), int64(2), object(2)\n",
      "memory usage: 6.7+ MB\n",
      "None\n"
     ]
    }
   ],
   "source": [
    "#merging and concatenating data frames together. formatting of time column is inconsistent\n",
    "#some dataframes have H:MM format, others have HH:MM\n",
    "#merge when possible, concatenate and trip columns elsewhere\n",
    "\n",
    "dfeb2 = pd.merge(eb010,eb032)\n",
    "dfeb2.head()\n",
    "print(dfeb2.info())\n",
    "dfeb3 = pd.merge(eb045,eb061)\n",
    "print(dfeb3.info())\n"
   ]
  },
  {
   "cell_type": "code",
   "execution_count": 16,
   "metadata": {},
   "outputs": [
    {
     "name": "stdout",
     "output_type": "stream",
     "text": [
      "<class 'pandas.core.frame.DataFrame'>\n",
      "Int64Index: 125280 entries, 0 to 125279\n",
      "Data columns (total 10 columns):\n",
      " #   Column     Non-Null Count   Dtype  \n",
      "---  ------     --------------   -----  \n",
      " 0   Time       125280 non-null  object \n",
      " 1   Date       125280 non-null  object \n",
      " 2   010Volume  125280 non-null  int64  \n",
      " 3   010Speed   123840 non-null  float64\n",
      " 4   032Volume  125280 non-null  int64  \n",
      " 5   032Speed   125256 non-null  float64\n",
      " 6   045Volume  125280 non-null  int64  \n",
      " 7   045Speed   125278 non-null  float64\n",
      " 8   061Volume  125280 non-null  int64  \n",
      " 9   061Speed   125271 non-null  float64\n",
      "dtypes: float64(4), int64(4), object(2)\n",
      "memory usage: 10.5+ MB\n",
      "None\n"
     ]
    }
   ],
   "source": [
    "dfeb4 = pd.concat(objs = [dfeb2,dfeb3[['045Volume','045Speed','061Volume','061Speed']]],axis = 1)\n",
    "print(dfeb4.info())"
   ]
  },
  {
   "cell_type": "code",
   "execution_count": 17,
   "metadata": {},
   "outputs": [],
   "source": [
    "dfeb4.drop(dfeb4.index[0:18720],inplace = True) # removing days July 1 - July 13\n",
    "#sensor 010 was observed to have missing values from July 1 to July 13"
   ]
  },
  {
   "cell_type": "code",
   "execution_count": 18,
   "metadata": {},
   "outputs": [
    {
     "name": "stdout",
     "output_type": "stream",
     "text": [
      "       Time       Date  010Volume  010Speed  032Volume  032Speed  045Volume  \\\n",
      "18720  0:00  14-Jul-16         24      99.0         26     103.0         12   \n",
      "18721  0:01  14-Jul-16         38      97.0         22      78.0          6   \n",
      "18722  0:02  14-Jul-16         38      93.0          7      85.0         30   \n",
      "18723  0:03  14-Jul-16          4      96.0         14      98.0         18   \n",
      "18724  0:04  14-Jul-16         38      98.0         10      79.0         27   \n",
      "\n",
      "       045Speed  061Volume  061Speed  \n",
      "18720     101.0         10      96.0  \n",
      "18721      96.0         13      98.0  \n",
      "18722     100.0         11      95.0  \n",
      "18723      97.0         11      99.0  \n",
      "18724      99.0          3      97.0  \n",
      "<class 'pandas.core.frame.DataFrame'>\n",
      "Int64Index: 106560 entries, 18720 to 125279\n",
      "Data columns (total 10 columns):\n",
      " #   Column     Non-Null Count   Dtype  \n",
      "---  ------     --------------   -----  \n",
      " 0   Time       106560 non-null  object \n",
      " 1   Date       106560 non-null  object \n",
      " 2   010Volume  106560 non-null  int64  \n",
      " 3   010Speed   106560 non-null  float64\n",
      " 4   032Volume  106560 non-null  int64  \n",
      " 5   032Speed   106560 non-null  float64\n",
      " 6   045Volume  106560 non-null  int64  \n",
      " 7   045Speed   106560 non-null  float64\n",
      " 8   061Volume  106560 non-null  int64  \n",
      " 9   061Speed   106560 non-null  float64\n",
      "dtypes: float64(4), int64(4), object(2)\n",
      "memory usage: 8.9+ MB\n",
      "None\n"
     ]
    }
   ],
   "source": [
    "#checking dataframe size has been reduced\n",
    "print(dfeb4.head())\n",
    "print(dfeb4.info())"
   ]
  },
  {
   "cell_type": "code",
   "execution_count": 19,
   "metadata": {},
   "outputs": [],
   "source": [
    "#this process was done iteratively. The cells below collecting indexs were ran, and the corresponding dates for those indexes added to the values in index_bad_days.\n",
    "#Now when the code is ran, this removes bad days and the cells below confirm that there are no missing values remaining.\n",
    "\n",
    "index_bad_days = dfeb4[(dfeb4['Date'] == '20-Jul-16')|(dfeb4['Date'] == '21-Jul-16')|(dfeb4['Date'] == '17-Aug-16')|(dfeb4['Date'] =='18-Aug-16')|(dfeb4['Date'] == '24-Aug-16')|(dfeb4['Date'] =='25-Aug-16')|(dfeb4['Date'] =='16-Sep-16')|(dfeb4['Date'] =='17-Sep-16')|(dfeb4['Date'] =='18-Sep-16')|(dfeb4['Date'] =='19-Sep-16')|(dfeb4['Date'] =='20-Sep-16')|(dfeb4['Date'] =='14-Jul-16')|(dfeb4['Date'] =='24-Jul-16')|(dfeb4['Date'] =='4-Aug016')|(dfeb4['Date'] =='1-Sep-16')|(dfeb4['Date'] =='22-Sep-16')|(dfeb4['Date'] =='15-Jul-16')|(dfeb4['Date'] =='15-Sep-16')|(dfeb4['Date'] =='4-Aug-16')].index\n",
    "dfeb4.drop(index_bad_days,inplace=True)"
   ]
  },
  {
   "cell_type": "code",
   "execution_count": 20,
   "metadata": {},
   "outputs": [],
   "source": [
    "dfeb4.reset_index(inplace=True)\n",
    "dfeb4.drop(['index'],axis=1,inplace=True)\n",
    "\n"
   ]
  },
  {
   "cell_type": "code",
   "execution_count": 21,
   "metadata": {},
   "outputs": [
    {
     "data": {
      "image/png": "[encoded data removed]",
      "text/plain": [
       "<Figure size 432x288 with 1 Axes>"
      ]
     },
     "metadata": {
      "needs_background": "light"
     },
     "output_type": "display_data"
    },
    {
     "data": {
      "image/png": "[encoded data removed]",
      "text/plain": [
       "<Figure size 432x288 with 1 Axes>"
      ]
     },
     "metadata": {
      "needs_background": "light"
     },
     "output_type": "display_data"
    }
   ],
   "source": [
    "#There are very  few 0 values for speed, but many for volume. It is feasible to have 0 volume observations.\n",
    "#Most 0 volume observations are legitimate and not caused by sensor malfunctions\n",
    "#cant use 0 value of volume for detecting malfunctions\n",
    "#use 0 values for speed\n",
    "\n",
    "\n",
    "plt.hist(dfeb4['010Speed'])\n",
    "plt.show()\n",
    "plt.hist(dfeb4['010Volume'])\n",
    "plt.show()"
   ]
  },
  {
   "cell_type": "code",
   "execution_count": 22,
   "metadata": {},
   "outputs": [
    {
     "name": "stdout",
     "output_type": "stream",
     "text": [
      "<class 'pandas.core.frame.DataFrame'>\n",
      "RangeIndex: 80640 entries, 0 to 80639\n",
      "Data columns (total 10 columns):\n",
      " #   Column     Non-Null Count  Dtype  \n",
      "---  ------     --------------  -----  \n",
      " 0   Time       80640 non-null  object \n",
      " 1   Date       80640 non-null  object \n",
      " 2   010Volume  80640 non-null  int64  \n",
      " 3   010Speed   80183 non-null  float64\n",
      " 4   032Volume  80640 non-null  int64  \n",
      " 5   032Speed   80640 non-null  float64\n",
      " 6   045Volume  80640 non-null  int64  \n",
      " 7   045Speed   80640 non-null  float64\n",
      " 8   061Volume  80640 non-null  int64  \n",
      " 9   061Speed   80640 non-null  float64\n",
      "dtypes: float64(4), int64(4), object(2)\n",
      "memory usage: 6.2+ MB\n",
      "None\n"
     ]
    }
   ],
   "source": [
    "dfeb4['010Speed'].replace(0,np.nan,inplace=True)\n",
    "\n",
    "print(dfeb4.info())#checking how many 0 values were converted to NaN"
   ]
  },
  {
   "cell_type": "code",
   "execution_count": 23,
   "metadata": {},
   "outputs": [],
   "source": [
    "dfeb4['010Speed'].interpolate( inplace = True,limit = 10, limit_direction='both')"
   ]
  },
  {
   "cell_type": "code",
   "execution_count": 24,
   "metadata": {},
   "outputs": [
    {
     "name": "stdout",
     "output_type": "stream",
     "text": [
      "<class 'pandas.core.frame.DataFrame'>\n",
      "RangeIndex: 80640 entries, 0 to 80639\n",
      "Data columns (total 10 columns):\n",
      " #   Column     Non-Null Count  Dtype  \n",
      "---  ------     --------------  -----  \n",
      " 0   Time       80640 non-null  object \n",
      " 1   Date       80640 non-null  object \n",
      " 2   010Volume  80640 non-null  int64  \n",
      " 3   010Speed   80640 non-null  float64\n",
      " 4   032Volume  80640 non-null  int64  \n",
      " 5   032Speed   80640 non-null  float64\n",
      " 6   045Volume  80640 non-null  int64  \n",
      " 7   045Speed   80640 non-null  float64\n",
      " 8   061Volume  80640 non-null  int64  \n",
      " 9   061Speed   80640 non-null  float64\n",
      "dtypes: float64(4), int64(4), object(2)\n",
      "memory usage: 6.2+ MB\n",
      "None\n"
     ]
    }
   ],
   "source": [
    "\n",
    "print(dfeb4.info())#checking all NaN values have been removed"
   ]
  },
  {
   "cell_type": "code",
   "execution_count": 25,
   "metadata": {},
   "outputs": [
    {
     "name": "stdout",
     "output_type": "stream",
     "text": [
      "[]\n"
     ]
    }
   ],
   "source": [
    "index_010speed = list(dfeb4.loc[pd.isna(dfeb4['010Speed']),:].index)#calculating index of NaN values\n",
    "print(index_010speed)#after interpolating small groups of NaN values, this should be empty. If not, remove days of relevant index\n"
   ]
  },
  {
   "cell_type": "code",
   "execution_count": 26,
   "metadata": {},
   "outputs": [
    {
     "name": "stdout",
     "output_type": "stream",
     "text": [
      "<class 'pandas.core.frame.DataFrame'>\n",
      "RangeIndex: 80640 entries, 0 to 80639\n",
      "Data columns (total 10 columns):\n",
      " #   Column     Non-Null Count  Dtype  \n",
      "---  ------     --------------  -----  \n",
      " 0   Time       80640 non-null  object \n",
      " 1   Date       80640 non-null  object \n",
      " 2   010Volume  80640 non-null  int64  \n",
      " 3   010Speed   80640 non-null  float64\n",
      " 4   032Volume  80640 non-null  int64  \n",
      " 5   032Speed   78397 non-null  float64\n",
      " 6   045Volume  80640 non-null  int64  \n",
      " 7   045Speed   80640 non-null  float64\n",
      " 8   061Volume  80640 non-null  int64  \n",
      " 9   061Speed   80640 non-null  float64\n",
      "dtypes: float64(4), int64(4), object(2)\n",
      "memory usage: 6.2+ MB\n",
      "None\n",
      "<class 'pandas.core.frame.DataFrame'>\n",
      "RangeIndex: 80640 entries, 0 to 80639\n",
      "Data columns (total 10 columns):\n",
      " #   Column     Non-Null Count  Dtype  \n",
      "---  ------     --------------  -----  \n",
      " 0   Time       80640 non-null  object \n",
      " 1   Date       80640 non-null  object \n",
      " 2   010Volume  80640 non-null  int64  \n",
      " 3   010Speed   80640 non-null  float64\n",
      " 4   032Volume  80640 non-null  int64  \n",
      " 5   032Speed   80640 non-null  float64\n",
      " 6   045Volume  80640 non-null  int64  \n",
      " 7   045Speed   80640 non-null  float64\n",
      " 8   061Volume  80640 non-null  int64  \n",
      " 9   061Speed   80640 non-null  float64\n",
      "dtypes: float64(4), int64(4), object(2)\n",
      "memory usage: 6.2+ MB\n",
      "None\n",
      "[]\n",
      "[]\n"
     ]
    }
   ],
   "source": [
    "\n",
    "dfeb4['032Speed'].replace(0,np.nan,inplace=True)\n",
    "print(dfeb4.info())\n",
    "dfeb4['032Speed'].interpolate( inplace = True,limit = 10, limit_direction='both')\n",
    "print(dfeb4.info())\n",
    "index_032speed = list(dfeb4.loc[pd.isna(dfeb4['032Speed']),:].index)\n",
    "index_032volume = list(dfeb4.loc[pd.isna(dfeb4['032Volume']),:].index)\n",
    "\n",
    "print(index_032speed)\n",
    "print(index_032volume)"
   ]
  },
  {
   "cell_type": "code",
   "execution_count": 27,
   "metadata": {},
   "outputs": [
    {
     "data": {
      "image/png": "[encoded data removed]",
      "text/plain": [
       "<Figure size 432x288 with 1 Axes>"
      ]
     },
     "metadata": {
      "needs_background": "light"
     },
     "output_type": "display_data"
    },
    {
     "data": {
      "image/png": "[encoded data removed]",
      "text/plain": [
       "<Figure size 432x288 with 1 Axes>"
      ]
     },
     "metadata": {
      "needs_background": "light"
     },
     "output_type": "display_data"
    },
    {
     "name": "stdout",
     "output_type": "stream",
     "text": [
      "<class 'pandas.core.frame.DataFrame'>\n",
      "RangeIndex: 80640 entries, 0 to 80639\n",
      "Data columns (total 10 columns):\n",
      " #   Column     Non-Null Count  Dtype  \n",
      "---  ------     --------------  -----  \n",
      " 0   Time       80640 non-null  object \n",
      " 1   Date       80640 non-null  object \n",
      " 2   010Volume  80640 non-null  int64  \n",
      " 3   010Speed   80640 non-null  float64\n",
      " 4   032Volume  80640 non-null  int64  \n",
      " 5   032Speed   80640 non-null  float64\n",
      " 6   045Volume  80640 non-null  int64  \n",
      " 7   045Speed   78701 non-null  float64\n",
      " 8   061Volume  80640 non-null  int64  \n",
      " 9   061Speed   80640 non-null  float64\n",
      "dtypes: float64(4), int64(4), object(2)\n",
      "memory usage: 6.2+ MB\n",
      "None\n",
      "<class 'pandas.core.frame.DataFrame'>\n",
      "RangeIndex: 80640 entries, 0 to 80639\n",
      "Data columns (total 10 columns):\n",
      " #   Column     Non-Null Count  Dtype  \n",
      "---  ------     --------------  -----  \n",
      " 0   Time       80640 non-null  object \n",
      " 1   Date       80640 non-null  object \n",
      " 2   010Volume  80640 non-null  int64  \n",
      " 3   010Speed   80640 non-null  float64\n",
      " 4   032Volume  80640 non-null  int64  \n",
      " 5   032Speed   80640 non-null  float64\n",
      " 6   045Volume  80640 non-null  int64  \n",
      " 7   045Speed   80640 non-null  float64\n",
      " 8   061Volume  80640 non-null  int64  \n",
      " 9   061Speed   80640 non-null  float64\n",
      "dtypes: float64(4), int64(4), object(2)\n",
      "memory usage: 6.2+ MB\n",
      "None\n",
      "[]\n"
     ]
    }
   ],
   "source": [
    "plt.hist(dfeb4['045Speed'])\n",
    "plt.show()\n",
    "plt.hist(dfeb4['045Volume'])\n",
    "plt.show()\n",
    "dfeb4['045Speed'].replace(0,np.nan,inplace=True)\n",
    "print(dfeb4.info())\n",
    "dfeb4['045Speed'].interpolate( inplace = True,limit = 10, limit_direction='both')\n",
    "print(dfeb4.info())\n",
    "index_045speed = list(dfeb4.loc[pd.isna(dfeb4['045Speed']),:].index)\n",
    "\n",
    "print(index_045speed)\n"
   ]
  },
  {
   "cell_type": "code",
   "execution_count": 28,
   "metadata": {},
   "outputs": [
    {
     "data": {
      "image/png": "[encoded data removed]",
      "text/plain": [
       "<Figure size 432x288 with 1 Axes>"
      ]
     },
     "metadata": {
      "needs_background": "light"
     },
     "output_type": "display_data"
    },
    {
     "data": {
      "image/png": "[encoded data removed]",
      "text/plain": [
       "<Figure size 432x288 with 1 Axes>"
      ]
     },
     "metadata": {
      "needs_background": "light"
     },
     "output_type": "display_data"
    },
    {
     "name": "stdout",
     "output_type": "stream",
     "text": [
      "<class 'pandas.core.frame.DataFrame'>\n",
      "RangeIndex: 80640 entries, 0 to 80639\n",
      "Data columns (total 10 columns):\n",
      " #   Column     Non-Null Count  Dtype  \n",
      "---  ------     --------------  -----  \n",
      " 0   Time       80640 non-null  object \n",
      " 1   Date       80640 non-null  object \n",
      " 2   010Volume  80640 non-null  int64  \n",
      " 3   010Speed   80640 non-null  float64\n",
      " 4   032Volume  80640 non-null  int64  \n",
      " 5   032Speed   80640 non-null  float64\n",
      " 6   045Volume  80640 non-null  int64  \n",
      " 7   045Speed   80640 non-null  float64\n",
      " 8   061Volume  80640 non-null  int64  \n",
      " 9   061Speed   79823 non-null  float64\n",
      "dtypes: float64(4), int64(4), object(2)\n",
      "memory usage: 6.2+ MB\n",
      "None\n",
      "<class 'pandas.core.frame.DataFrame'>\n",
      "RangeIndex: 80640 entries, 0 to 80639\n",
      "Data columns (total 10 columns):\n",
      " #   Column     Non-Null Count  Dtype  \n",
      "---  ------     --------------  -----  \n",
      " 0   Time       80640 non-null  object \n",
      " 1   Date       80640 non-null  object \n",
      " 2   010Volume  80640 non-null  int64  \n",
      " 3   010Speed   80640 non-null  float64\n",
      " 4   032Volume  80640 non-null  int64  \n",
      " 5   032Speed   80640 non-null  float64\n",
      " 6   045Volume  80640 non-null  int64  \n",
      " 7   045Speed   80640 non-null  float64\n",
      " 8   061Volume  80640 non-null  int64  \n",
      " 9   061Speed   80640 non-null  float64\n",
      "dtypes: float64(4), int64(4), object(2)\n",
      "memory usage: 6.2+ MB\n",
      "None\n",
      "[]\n"
     ]
    }
   ],
   "source": [
    "plt.hist(dfeb4['061Speed'])\n",
    "plt.show()\n",
    "plt.hist(dfeb4['061Volume'])\n",
    "plt.show()\n",
    "dfeb4['061Speed'].replace(0,np.nan,inplace=True)\n",
    "print(dfeb4.info())\n",
    "dfeb4['061Speed'].interpolate( inplace = True,limit = 10, limit_direction='both')\n",
    "print(dfeb4.info())\n",
    "index_061speed = list(dfeb4.loc[pd.isna(dfeb4['061Speed']),:].index)\n",
    "\n",
    "print(index_061speed)\n"
   ]
  },
  {
   "cell_type": "code",
   "execution_count": 29,
   "metadata": {},
   "outputs": [
    {
     "name": "stdout",
     "output_type": "stream",
     "text": [
      "   Time       Date  010Volume  010Speed  032Volume  032Speed  045Volume  \\\n",
      "0  0:00  16-Jul-16         90      90.0         36      80.0         45   \n",
      "1  0:01  16-Jul-16         50      96.0         31      77.0         45   \n",
      "2  0:02  16-Jul-16         74      93.0         43      97.0         60   \n",
      "3  0:03  16-Jul-16         52      95.0         55      79.0         33   \n",
      "4  0:04  16-Jul-16         66      92.0         38      79.0         42   \n",
      "\n",
      "   045Speed  061Volume  061Speed  \n",
      "0      99.0         23      96.0  \n",
      "1      99.0         14     100.0  \n",
      "2     101.0         24      97.0  \n",
      "3      96.0         19     100.0  \n",
      "4      97.0         21      97.0  \n",
      "<class 'pandas.core.frame.DataFrame'>\n",
      "RangeIndex: 80640 entries, 0 to 80639\n",
      "Data columns (total 10 columns):\n",
      " #   Column     Non-Null Count  Dtype  \n",
      "---  ------     --------------  -----  \n",
      " 0   Time       80640 non-null  object \n",
      " 1   Date       80640 non-null  object \n",
      " 2   010Volume  80640 non-null  int64  \n",
      " 3   010Speed   80640 non-null  float64\n",
      " 4   032Volume  80640 non-null  int64  \n",
      " 5   032Speed   80640 non-null  float64\n",
      " 6   045Volume  80640 non-null  int64  \n",
      " 7   045Speed   80640 non-null  float64\n",
      " 8   061Volume  80640 non-null  int64  \n",
      " 9   061Speed   80640 non-null  float64\n",
      "dtypes: float64(4), int64(4), object(2)\n",
      "memory usage: 6.2+ MB\n",
      "None\n"
     ]
    }
   ],
   "source": [
    "print(dfeb4.head())\n",
    "print(dfeb4.info())\n",
    "try:\n",
    "    os.makedirs('clean_data')\n",
    "except OSError:\n",
    "    pass\n",
    "dfeb4.to_csv('clean_data/ebdataset.csv',index=False)"
   ]
  },
  {
   "cell_type": "code",
   "execution_count": null,
   "metadata": {},
   "outputs": [],
   "source": []
  }
 ],
 "metadata": {
  "kernelspec": {
   "display_name": "Python 3",
   "language": "python",
   "name": "python3"
  },
  "language_info": {
   "codemirror_mode": {
    "name": "ipython",
    "version": 3
   },
   "file_extension": ".py",
   "mimetype": "text/x-python",
   "name": "python",
   "nbconvert_exporter": "python",
   "pygments_lexer": "ipython3",
   "version": "3.8.3"
  }
 },
 "nbformat": 4,
 "nbformat_minor": 5
}
